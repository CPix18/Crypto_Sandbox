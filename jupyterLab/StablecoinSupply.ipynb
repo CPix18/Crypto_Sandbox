{
 "cells": [
  {
   "cell_type": "code",
   "execution_count": 27,
   "metadata": {},
   "outputs": [],
   "source": [
    "import requests\n",
    "import os \n",
    "import json"
   ]
  },
  {
   "cell_type": "code",
   "execution_count": 28,
   "metadata": {},
   "outputs": [],
   "source": [
    "DAI = \"0x6b175474e89094c44da98b954eedeac495271d0f\"\n",
    "USDT = \"0xdac17f958d2ee523a2206206994597c13d831ec7\"\n",
    "USDC = \"0xa0b86991c6218b36c1d19d4a2e9eb0ce3606eb48\"\n",
    "TUSD = \"0x0000000000085d4780B73119b644AE5ecd22b376\"\n",
    "PAX = \"0x8e870d67f660d95d5be530380d0ec0bd388289e1\"\n",
    "GUSD = \"0x056fd409e1d7a124bd7017459dfea2f387b6d5cd\"\n",
    "BUSD = \"0x4fabb145d64652a948d72533023f6e7a623c7c53\"\n",
    "HUSD = \"0xdf574c24545e5ffecb9a659c229253d4111d87e1\"\n",
    "mUSD = \"0xe2f2a5c287993345a840db3b0845fbc70f5935a5\"\n",
    "sUSD = \"0x57ab1ec28d129707052df4df418d58a2d46d5f51\""
   ]
  },
  {
   "cell_type": "code",
   "execution_count": 29,
   "metadata": {},
   "outputs": [],
   "source": [
    "api_key = os.getenv(\"ETHERSCAN_API_KEY\")"
   ]
  },
  {
   "cell_type": "code",
   "execution_count": 30,
   "metadata": {},
   "outputs": [],
   "source": [
    "request_url_DAI = f\"https://api.etherscan.io/api?module=stats&action=tokensupply&contractaddress={DAI}&apikey={api_key}\"\n",
    "request_url_USDC = f\"https://api.etherscan.io/api?module=stats&action=tokensupply&contractaddress={USDC}&apikey={api_key}\"\n",
    "request_url_USDT = f\"https://api.etherscan.io/api?module=stats&action=tokensupply&contractaddress={USDT}&apikey={api_key}\"\n",
    "request_url_TUSD = f\"https://api.etherscan.io/api?module=stats&action=tokensupply&contractaddress={TUSD}&apikey={api_key}\"\n",
    "request_url_PAX = f\"https://api.etherscan.io/api?module=stats&action=tokensupply&contractaddress={PAX}&apikey={api_key}\"\n",
    "request_url_GUSD = f\"https://api.etherscan.io/api?module=stats&action=tokensupply&contractaddress={GUSD}&apikey={api_key}\"\n",
    "request_url_BUSD = f\"https://api.etherscan.io/api?module=stats&action=tokensupply&contractaddress={BUSD}&apikey={api_key}\"\n",
    "request_url_HUSD = f\"https://api.etherscan.io/api?module=stats&action=tokensupply&contractaddress={HUSD}&apikey={api_key}\"\n",
    "request_url_mUSD = f\"https://api.etherscan.io/api?module=stats&action=tokensupply&contractaddress={mUSD}&apikey={api_key}\"\n",
    "request_url_sUSD = f\"https://api.etherscan.io/api?module=stats&action=tokensupply&contractaddress={sUSD}&apikey={api_key}\""
   ]
  },
  {
   "cell_type": "code",
   "execution_count": 31,
   "metadata": {},
   "outputs": [],
   "source": [
    "response_data_DAI = requests.get(request_url_DAI)\n",
    "response_data_USDC = requests.get(request_url_USDC)\n",
    "response_data_USDT = requests.get(request_url_USDT)\n",
    "response_data_TUSD = requests.get(request_url_TUSD)\n",
    "response_data_PAX = requests.get(request_url_PAX)\n",
    "response_data_GUSD = requests.get(request_url_GUSD)\n",
    "response_data_BUSD = requests.get(request_url_BUSD)\n",
    "response_data_HUSD = requests.get(request_url_HUSD)\n",
    "response_data_mUSD = requests.get(request_url_mUSD)\n",
    "response_data_sUSD = requests.get(request_url_sUSD)"
   ]
  },
  {
   "cell_type": "code",
   "execution_count": 35,
   "metadata": {},
   "outputs": [
    {
     "name": "stdout",
     "output_type": "stream",
     "text": [
      "{'status': '1', 'message': 'OK', 'result': '154276222530031054805242632'}\n",
      "{'status': '1', 'message': 'OK', 'result': '1108845354990000'}\n",
      "{'status': '1', 'message': 'OK', 'result': '6157847550677356'}\n",
      "{'status': '1', 'message': 'OK', 'result': '239610467101548871244616430'}\n",
      "{'status': '1', 'message': 'OK', 'result': '246251867520000000000000000'}\n",
      "{'status': '1', 'message': 'OK', 'result': '1173305944'}\n",
      "{'status': '1', 'message': 'OK', 'result': '178080603840000000000000000'}\n",
      "{'status': '1', 'message': 'OK', 'result': '12982759948113136'}\n",
      "{'status': '1', 'message': 'OK', 'result': '154276222530031054805242632'}\n",
      "{'status': '1', 'message': 'OK', 'result': '42422445875236750068465103'}\n"
     ]
    }
   ],
   "source": [
    "DAI_result = response_data_DAI.content\n",
    "DAI_results = json.loads(DAI_result)\n",
    "print(DAI_results)\n",
    "\n",
    "USDC_result = response_data_USDC.content\n",
    "USDC_results = json.loads(USDC_result)\n",
    "print(USDC_results)\n",
    "\n",
    "USDT_result = response_data_USDT.content\n",
    "USDT_results = json.loads(USDT_result)\n",
    "print(USDT_results)\n",
    "\n",
    "TUSD_result = response_data_TUSD.content\n",
    "TUSD_results = json.loads(TUSD_result)\n",
    "print(TUSD_results)\n",
    "\n",
    "PAX_result = response_data_PAX.content\n",
    "PAX_results = json.loads(PAX_result)\n",
    "print(PAX_results)\n",
    "\n",
    "GUSD_result = response_data_GUSD.content\n",
    "GUSD_results = json.loads(GUSD_result)\n",
    "print(GUSD_results)\n",
    "\n",
    "BUSD_result = response_data_BUSD.content\n",
    "BUSD_results = json.loads(BUSD_result)\n",
    "print(BUSD_results)\n",
    "\n",
    "HUSD_result = response_data_HUSD.content\n",
    "HUSD_results = json.loads(HUSD_result)\n",
    "print(HUSD_results)\n",
    "\n",
    "mUSD_result = response_data_mUSD.content\n",
    "mUSD_results = json.loads(mUSD_result)\n",
    "print(DAI_results)\n",
    "\n",
    "sUSD_result = response_data_USD.content\n",
    "sUSD_results = json.loads(sUSD_result)\n",
    "print(sUSD_results)"
   ]
  },
  {
   "cell_type": "code",
   "execution_count": 36,
   "metadata": {},
   "outputs": [
    {
     "name": "stdout",
     "output_type": "stream",
     "text": [
      "154276222530031054805242632\n",
      "1108845354990000\n",
      "6157847550677356\n",
      "239610467101548871244616430\n",
      "246251867520000000000000000\n",
      "1173305944\n",
      "178080603840000000000000000\n",
      "12982759948113136\n",
      "31884218226972081659643435\n",
      "42422445875236750068465103\n"
     ]
    }
   ],
   "source": [
    "DAI_totalSupply = DAI_results[\"result\"]\n",
    "print(DAI_totalSupply)\n",
    "\n",
    "USDC_totalSupply = USDC_results[\"result\"]\n",
    "print(USDC_totalSupply)\n",
    "\n",
    "USDT_totalSupply = USDT_results[\"result\"]\n",
    "print(USDT_totalSupply)\n",
    "\n",
    "TUSD_totalSupply = TUSD_results[\"result\"]\n",
    "print(TUSD_totalSupply)\n",
    "\n",
    "PAX_totalSupply = PAX_results[\"result\"]\n",
    "print(PAX_totalSupply)\n",
    "\n",
    "GUSD_totalSupply = GUSD_results[\"result\"]\n",
    "print(GUSD_totalSupply)\n",
    "\n",
    "BUSD_totalSupply = BUSD_results[\"result\"]\n",
    "print(BUSD_totalSupply)\n",
    "\n",
    "HUSD_totalSupply = HUSD_results[\"result\"]\n",
    "print(HUSD_totalSupply)\n",
    "\n",
    "mUSD_totalSupply = mUSD_results[\"result\"]\n",
    "print(mUSD_totalSupply)\n",
    "\n",
    "sUSD_totalSupply = sUSD_results[\"result\"]\n",
    "print(sUSD_totalSupply)"
   ]
  },
  {
   "cell_type": "code",
   "execution_count": 51,
   "metadata": {},
   "outputs": [
    {
     "name": "stdout",
     "output_type": "stream",
     "text": [
      "DAI Supply: 154276222.53003106\n",
      "USDC Supply: 1108845354.99\n",
      "USDT Supply: 6157847550.677356\n",
      "TUSD Supply: 239610467.10154888\n",
      "PAX Supply: 246251867.52\n",
      "GUSD Supply: 11733059.44\n",
      "BUSD Supply: 178080603.84\n",
      "HUSD Supply: 129827599.48113136\n",
      "mUSD Supply: 31884218.22697208\n",
      "sUSD Supply: 42422445.87523675\n"
     ]
    }
   ],
   "source": [
    "DAI_Supply = (int(DAI_totalSupply)/1000000000000000000)\n",
    "print(f'DAI Supply: {DAI_Supply}')\n",
    "\n",
    "USDC_Supply = (int(USDC_totalSupply)/1000000)\n",
    "print(f'USDC Supply: {USDC_Supply}')\n",
    "\n",
    "USDT_Supply = (int(USDT_totalSupply)/1000000)\n",
    "print(f'USDT Supply: {USDT_Supply}')\n",
    "\n",
    "TUSD_Supply = (int(TUSD_totalSupply)/1000000000000000000)\n",
    "print(f'TUSD Supply: {TUSD_Supply}')\n",
    "\n",
    "PAX_Supply = (int(PAX_totalSupply)/1000000000000000000)\n",
    "print(f'PAX Supply: {PAX_Supply}')\n",
    "\n",
    "GUSD_Supply = (int(GUSD_totalSupply)/100)\n",
    "print(f'GUSD Supply: {GUSD_Supply}')\n",
    "\n",
    "BUSD_Supply = (int(BUSD_totalSupply)/1000000000000000000)\n",
    "print(f'BUSD Supply: {BUSD_Supply}')\n",
    "\n",
    "HUSD_Supply = (int(HUSD_totalSupply)/100000000)\n",
    "print(f'HUSD Supply: {HUSD_Supply}')\n",
    "\n",
    "mUSD_Supply = (int(mUSD_totalSupply)/1000000000000000000)\n",
    "print(f'mUSD Supply: {mUSD_Supply}')\n",
    "\n",
    "sUSD_Supply = (int(sUSD_totalSupply)/1000000000000000000)\n",
    "print(f'sUSD Supply: {sUSD_Supply}')"
   ]
  },
  {
   "cell_type": "code",
   "execution_count": 52,
   "metadata": {},
   "outputs": [
    {
     "name": "stdout",
     "output_type": "stream",
     "text": [
      "Total Ethereum Stablecoin Market Cap: 8300779389.682276\n"
     ]
    }
   ],
   "source": [
    "Total_Ethereum_Stablecoin_Cap = (+DAI_Supply+USDC_Supply+USDT_Supply+TUSD_Supply+PAX_Supply+GUSD_Supply+BUSD_Supply+HUSD_Supply+mUSD_Supply+sUSD_Supply)\n",
    "print(f'Total Ethereum Stablecoin Market Cap: {Total_Ethereum_Stablecoin_Cap}')\n"
   ]
  },
  {
   "cell_type": "code",
   "execution_count": null,
   "metadata": {},
   "outputs": [],
   "source": []
  }
 ],
 "metadata": {
  "kernelspec": {
   "display_name": "Python (Viz)",
   "language": "python",
   "name": "viz"
  },
  "language_info": {
   "codemirror_mode": {
    "name": "ipython",
    "version": 3
   },
   "file_extension": ".py",
   "mimetype": "text/x-python",
   "name": "python",
   "nbconvert_exporter": "python",
   "pygments_lexer": "ipython3",
   "version": "3.7.7"
  }
 },
 "nbformat": 4,
 "nbformat_minor": 4
}
